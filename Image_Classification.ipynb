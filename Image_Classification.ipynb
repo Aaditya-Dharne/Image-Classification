{
  "nbformat": 4,
  "nbformat_minor": 0,
  "metadata": {
    "colab": {
      "provenance": []
    },
    "kernelspec": {
      "name": "python3",
      "display_name": "Python 3"
    },
    "language_info": {
      "name": "python"
    }
  },
  "cells": [
    {
      "cell_type": "markdown",
      "source": [
        "**DATA** **GATHERING**"
      ],
      "metadata": {
        "id": "HuIZdkv7IH6x"
      }
    },
    {
      "cell_type": "code",
      "source": [
        "!pip install ipython-autotime\n",
        "%load_ext autotime"
      ],
      "metadata": {
        "id": "82JFmfizHckV"
      },
      "execution_count": null,
      "outputs": []
    },
    {
      "cell_type": "code",
      "source": [
        "# ! mark - It means run it as a shell command rather than a notebook command.\n",
        "#Python library to download images from Bing.com\n",
        "!pip install bing-image-downloader"
      ],
      "metadata": {
        "id": "N-WnisgeBTpI"
      },
      "execution_count": null,
      "outputs": []
    },
    {
      "cell_type": "code",
      "source": [
        "!mkdir images # Directory for images"
      ],
      "metadata": {
        "id": "j_tHm6UxBh1_"
      },
      "execution_count": null,
      "outputs": []
    },
    {
      "cell_type": "code",
      "source": [
        "from bing_image_downloader import downloader\n",
        "#30 images will be downloaded from bing and sent to the images directory we created\n",
        "# adult_filter_off is beacuse we don't want any unwanted images\n",
        "downloader.download(\"sunflower\", limit = 30, output_dir = 'images',\n",
        "                    adult_filter_off = True)"
      ],
      "metadata": {
        "id": "iqzzr0yiC6Mj"
      },
      "execution_count": null,
      "outputs": []
    },
    {
      "cell_type": "code",
      "source": [
        "downloader.download(\"rugby ball leather\", limit = 30, output_dir = 'images',\n",
        "                    adult_filter_off = True)"
      ],
      "metadata": {
        "id": "oVhuqJRrFPrx"
      },
      "execution_count": null,
      "outputs": []
    },
    {
      "cell_type": "code",
      "source": [
        "downloader.download(\"ice cream cone\", limit = 30, output_dir = 'images',\n",
        "                    adult_filter_off = True)"
      ],
      "metadata": {
        "id": "Z1P6IykuGfZa"
      },
      "execution_count": null,
      "outputs": []
    },
    {
      "cell_type": "code",
      "source": [
        "# Preprocessing\n",
        "# 1. Resizing\n",
        "# 2. Flattening\n",
        "\n",
        "# To play around with the folders\n",
        "import os \n",
        "# To display the image\n",
        "import matplotlib.pyplot as plt\n",
        "# To do some numerical computing\n",
        "import numpy as np\n",
        "# To read the image\n",
        "from skimage.io import imread\n",
        "# To resize the image (For the model, we need the images to be of the same size)\n",
        "from skimage.transform import resize"
      ],
      "metadata": {
        "colab": {
          "base_uri": "https://localhost:8080/"
        },
        "id": "gylW96-MIU6W",
        "outputId": "c5108655-7e1d-4f45-9f98-2e762ae37876"
      },
      "execution_count": 53,
      "outputs": [
        {
          "output_type": "stream",
          "name": "stdout",
          "text": [
            "time: 1.34 ms (started: 2022-12-09 15:46:49 +00:00)\n"
          ]
        }
      ]
    },
    {
      "cell_type": "code",
      "source": [
        "import numpy as np\n",
        "\n",
        "a = np.array([[1,2,3,4,5],\n",
        "             [6,7,8,9,45]])\n",
        "a.ndim"
      ],
      "metadata": {
        "colab": {
          "base_uri": "https://localhost:8080/"
        },
        "id": "OIjp9InlVmKd",
        "outputId": "0b6d0290-5cf6-491e-d992-ddd01320e7b8"
      },
      "execution_count": 54,
      "outputs": [
        {
          "output_type": "execute_result",
          "data": {
            "text/plain": [
              "2"
            ]
          },
          "metadata": {},
          "execution_count": 54
        },
        {
          "output_type": "stream",
          "name": "stdout",
          "text": [
            "time: 6.26 ms (started: 2022-12-09 15:46:49 +00:00)\n"
          ]
        }
      ]
    },
    {
      "cell_type": "code",
      "source": [
        "# How to convert Matrix to Vector? - Flatten\n",
        "# Flatten : 2D to 1D\n",
        "a.flatten()"
      ],
      "metadata": {
        "colab": {
          "base_uri": "https://localhost:8080/"
        },
        "id": "ujSk-nDXWCMh",
        "outputId": "227a41b3-be71-4ab0-cba9-8353c5e4d623"
      },
      "execution_count": 55,
      "outputs": [
        {
          "output_type": "execute_result",
          "data": {
            "text/plain": [
              "array([ 1,  2,  3,  4,  5,  6,  7,  8,  9, 45])"
            ]
          },
          "metadata": {},
          "execution_count": 55
        },
        {
          "output_type": "stream",
          "name": "stdout",
          "text": [
            "time: 6.38 ms (started: 2022-12-09 15:46:49 +00:00)\n"
          ]
        }
      ]
    },
    {
      "cell_type": "code",
      "source": [
        "# We need the data in two different formats : Input and Output\n",
        "# We have to flatten the image pixels from 2D to 1D (Matrix to Vector)\n",
        "\n",
        "target = [] # Output\n",
        "images = [] # Matrix form\n",
        "flat_data = [] # Vector form (Input)\n",
        "\n",
        "DATADIR = '/content/images'\n",
        "CATEGORIES = ['sunflower','rugby ball leather','ice cream cone']\n",
        "\n",
        "# Iterate through the categories\n",
        "for category in CATEGORIES:\n",
        "  class_num = CATEGORIES.index(category) # Label Encoding the values\n",
        "  # Creates the path to use all the images\n",
        "  path = os.path.join(DATADIR,category) # Joins the 2 paths (DATADIR and category)\n",
        "\n",
        "  for img in os.listdir(path):\n",
        "    img_array = imread(os.path.join(path,img))\n",
        "    # print(img_array)\n",
        "    # plt.imshow(img_array)\n",
        "\n",
        "    #Resizing the images\n",
        "    img_resized = resize(img_array,(150,150,3)) # skimage - Normalizes the data from 0 to 1 ( Values 0 to 255 - Value b/w 0 and 1)\n",
        "    # Storing the resized images in images\n",
        "    images.append(img_resized)\n",
        "    # Flattening the images and storing it in flat_data\n",
        "    flat_data.append(img_resized.flatten())\n",
        "    target.append(class_num)\n",
        "\n",
        "# We don't anything to be outside numpy\n",
        "# If it is in numpy, its easy to iterate and go through it\n",
        "flat_data = np.array(flat_data)\n",
        "target = np.array(target)\n",
        "images = np.array(images)"
      ],
      "metadata": {
        "colab": {
          "base_uri": "https://localhost:8080/"
        },
        "id": "ue5s_MD0J3wW",
        "outputId": "edf3c4a1-b080-4080-ea1c-2713355ed483"
      },
      "execution_count": 56,
      "outputs": [
        {
          "output_type": "stream",
          "name": "stdout",
          "text": [
            "time: 21.4 s (started: 2022-12-09 15:46:49 +00:00)\n"
          ]
        }
      ]
    },
    {
      "cell_type": "code",
      "source": [
        "flat_data[0]"
      ],
      "metadata": {
        "colab": {
          "base_uri": "https://localhost:8080/"
        },
        "id": "5rS-X34thIwH",
        "outputId": "d63b8011-924f-4d33-e397-409cde8f72b6"
      },
      "execution_count": 57,
      "outputs": [
        {
          "output_type": "execute_result",
          "data": {
            "text/plain": [
              "array([0.7212549 , 0.69411765, 0.64150065, ..., 0.74366013, 0.71764706,\n",
              "       0.6745098 ])"
            ]
          },
          "metadata": {},
          "execution_count": 57
        },
        {
          "output_type": "stream",
          "name": "stdout",
          "text": [
            "time: 8.05 ms (started: 2022-12-09 15:47:10 +00:00)\n"
          ]
        }
      ]
    },
    {
      "cell_type": "code",
      "source": [
        "target"
      ],
      "metadata": {
        "colab": {
          "base_uri": "https://localhost:8080/"
        },
        "id": "kRGZyfMTiL8z",
        "outputId": "c01f50eb-7871-4c4d-fc12-59b32e8a4cff"
      },
      "execution_count": 58,
      "outputs": [
        {
          "output_type": "execute_result",
          "data": {
            "text/plain": [
              "array([0, 0, 0, 0, 0, 0, 0, 0, 0, 0, 0, 0, 0, 0, 0, 0, 0, 0, 0, 0, 0, 0,\n",
              "       0, 0, 0, 0, 0, 0, 0, 0, 0, 0, 1, 1, 1, 1, 1, 1, 1, 1, 1, 1, 1, 1,\n",
              "       1, 1, 1, 1, 1, 1, 1, 1, 1, 1, 1, 1, 1, 1, 1, 1, 1, 1, 1, 1, 1, 1,\n",
              "       1, 1, 1, 1, 1, 2, 2, 2, 2, 2, 2, 2, 2, 2, 2, 2, 2, 2, 2, 2, 2, 2,\n",
              "       2, 2, 2, 2, 2, 2, 2, 2, 2, 2, 2, 2, 2, 2, 2, 2, 2, 2, 2])"
            ]
          },
          "metadata": {},
          "execution_count": 58
        },
        {
          "output_type": "stream",
          "name": "stdout",
          "text": [
            "time: 9.18 ms (started: 2022-12-09 15:47:10 +00:00)\n"
          ]
        }
      ]
    },
    {
      "cell_type": "code",
      "source": [
        "#unique,count = np.unique(target, return_counts=True)\n",
        "#plt.bar(CATEGORIES,count)\n",
        "np.unique(target, return_counts=True)"
      ],
      "metadata": {
        "colab": {
          "base_uri": "https://localhost:8080/"
        },
        "id": "aHj3ND0FhK0y",
        "outputId": "7448b0df-3a16-4eb3-8f0c-e6dc3296404e"
      },
      "execution_count": 59,
      "outputs": [
        {
          "output_type": "execute_result",
          "data": {
            "text/plain": [
              "(array([0, 1, 2]), array([32, 39, 36]))"
            ]
          },
          "metadata": {},
          "execution_count": 59
        },
        {
          "output_type": "stream",
          "name": "stdout",
          "text": [
            "time: 15.2 ms (started: 2022-12-09 15:47:10 +00:00)\n"
          ]
        }
      ]
    },
    {
      "cell_type": "code",
      "source": [
        "# Split data into Training and Testing\n",
        "\n",
        "from sklearn.model_selection import train_test_split\n",
        "# X : flat_data, Y : target\n",
        "x_train,x_test,y_train,y_test = train_test_split(flat_data,target,\n",
        "                                                 test_size = 0.3,random_state = 110)"
      ],
      "metadata": {
        "colab": {
          "base_uri": "https://localhost:8080/"
        },
        "id": "xfZvj0gJlhoJ",
        "outputId": "afdb3489-eddf-472d-b446-7399efe6889b"
      },
      "execution_count": 60,
      "outputs": [
        {
          "output_type": "stream",
          "name": "stdout",
          "text": [
            "time: 20.8 ms (started: 2022-12-09 15:47:10 +00:00)\n"
          ]
        }
      ]
    },
    {
      "cell_type": "code",
      "source": [
        "# Using classification algorithm to classify the images\n",
        "from sklearn.model_selection import GridSearchCV\n",
        "from sklearn import svm\n",
        "\n",
        "# For any algorithm in machine learning, you have to learn its specific parameters\n",
        "# In SVM, you need to get the hyperparameter, to separate b/w the regions(parameters)\n",
        "# Best parameters\n",
        "\n",
        "param_grid = [\n",
        "             {'C':[1,10,100,1000],'kernel':['linear']},\n",
        "             {'C':[1,10,100,1000],'gamma':[0.001,0.0001],'kernel':['rbf']}\n",
        "]\n",
        "\n",
        "# To get the probabilities of all three\n",
        "svc = svm.SVC(probability=True)\n",
        "\"\"\"\n",
        "GridSearchCV is a technique to search through the best parameter values from the given set of the grid of parameters.\n",
        "The model and the parameters are required to be fed in. \n",
        "Best parameter values are extracted and then the predictions are made.\n",
        "It uses a different combination of all the specified hyperparameters and their values, \n",
        "and calculates the performance for each combination and selects the best value for the hyperparameters.\n",
        "\"\"\"\n",
        "clf = GridSearchCV(svc,param_grid)\n",
        "clf.fit(x_train,y_train)"
      ],
      "metadata": {
        "colab": {
          "base_uri": "https://localhost:8080/"
        },
        "id": "ucs1INdVrkil",
        "outputId": "a4f49b8a-28b3-404e-a612-f060e1746b36"
      },
      "execution_count": 61,
      "outputs": [
        {
          "output_type": "execute_result",
          "data": {
            "text/plain": [
              "GridSearchCV(estimator=SVC(probability=True),\n",
              "             param_grid=[{'C': [1, 10, 100, 1000], 'kernel': ['linear']},\n",
              "                         {'C': [1, 10, 100, 1000], 'gamma': [0.001, 0.0001],\n",
              "                          'kernel': ['rbf']}])"
            ]
          },
          "metadata": {},
          "execution_count": 61
        },
        {
          "output_type": "stream",
          "name": "stdout",
          "text": [
            "time: 33.9 s (started: 2022-12-09 15:47:10 +00:00)\n"
          ]
        }
      ]
    },
    {
      "cell_type": "code",
      "source": [
        "# Checking the accuracy\n",
        "y_pred = clf.predict(x_test)\n",
        "y_pred"
      ],
      "metadata": {
        "colab": {
          "base_uri": "https://localhost:8080/"
        },
        "id": "Hs_v00f3zHGd",
        "outputId": "2a169c86-283e-4d12-a92b-39039eeef3de"
      },
      "execution_count": 62,
      "outputs": [
        {
          "output_type": "execute_result",
          "data": {
            "text/plain": [
              "array([0, 2, 2, 2, 0, 1, 1, 2, 2, 0, 2, 1, 2, 2, 0, 0, 0, 0, 1, 2, 1, 2,\n",
              "       1, 0, 0, 0, 2, 2, 0, 1, 1, 0, 1])"
            ]
          },
          "metadata": {},
          "execution_count": 62
        },
        {
          "output_type": "stream",
          "name": "stdout",
          "text": [
            "time: 150 ms (started: 2022-12-09 15:47:44 +00:00)\n"
          ]
        }
      ]
    },
    {
      "cell_type": "code",
      "source": [
        "y_test"
      ],
      "metadata": {
        "colab": {
          "base_uri": "https://localhost:8080/"
        },
        "id": "nuK4_bt4zepp",
        "outputId": "ec48f7bf-84a9-4af6-ab96-2b14472fecd1"
      },
      "execution_count": 63,
      "outputs": [
        {
          "output_type": "execute_result",
          "data": {
            "text/plain": [
              "array([2, 2, 0, 2, 2, 1, 1, 0, 2, 0, 2, 1, 1, 0, 0, 0, 1, 0, 1, 1, 1, 2,\n",
              "       1, 0, 0, 0, 2, 2, 0, 1, 1, 0, 2])"
            ]
          },
          "metadata": {},
          "execution_count": 63
        },
        {
          "output_type": "stream",
          "name": "stdout",
          "text": [
            "time: 6.05 ms (started: 2022-12-09 15:47:45 +00:00)\n"
          ]
        }
      ]
    },
    {
      "cell_type": "code",
      "source": [
        "# To evaluate our model\n",
        "from sklearn.metrics import accuracy_score,confusion_matrix"
      ],
      "metadata": {
        "colab": {
          "base_uri": "https://localhost:8080/"
        },
        "id": "xqh8QoR1zgVA",
        "outputId": "83b88f47-178b-40cc-e2a9-0698c292d83a"
      },
      "execution_count": 64,
      "outputs": [
        {
          "output_type": "stream",
          "name": "stdout",
          "text": [
            "time: 426 µs (started: 2022-12-09 15:47:45 +00:00)\n"
          ]
        }
      ]
    },
    {
      "cell_type": "code",
      "source": [
        "accuracy_score(y_pred,y_test)"
      ],
      "metadata": {
        "colab": {
          "base_uri": "https://localhost:8080/"
        },
        "id": "JtyoNJaHzzNo",
        "outputId": "658f83dd-d4af-4d06-888a-82a70856fd61"
      },
      "execution_count": 65,
      "outputs": [
        {
          "output_type": "execute_result",
          "data": {
            "text/plain": [
              "0.7272727272727273"
            ]
          },
          "metadata": {},
          "execution_count": 65
        },
        {
          "output_type": "stream",
          "name": "stdout",
          "text": [
            "time: 5.89 ms (started: 2022-12-09 15:47:45 +00:00)\n"
          ]
        }
      ]
    },
    {
      "cell_type": "code",
      "source": [
        "confusion_matrix(y_pred,y_test)"
      ],
      "metadata": {
        "colab": {
          "base_uri": "https://localhost:8080/"
        },
        "id": "O4eEkfLUz6my",
        "outputId": "ea36ae06-a2a5-42ee-d7c3-aa1b295f197f"
      },
      "execution_count": 66,
      "outputs": [
        {
          "output_type": "execute_result",
          "data": {
            "text/plain": [
              "array([[9, 1, 2],\n",
              "       [0, 8, 1],\n",
              "       [3, 2, 7]])"
            ]
          },
          "metadata": {},
          "execution_count": 66
        },
        {
          "output_type": "stream",
          "name": "stdout",
          "text": [
            "time: 13.7 ms (started: 2022-12-09 15:47:45 +00:00)\n"
          ]
        }
      ]
    },
    {
      "cell_type": "code",
      "source": [
        "# Save the model using Pickle library\n",
        "import pickle\n",
        "pickle.dump(clf,open('img_model.p','wb'))"
      ],
      "metadata": {
        "colab": {
          "base_uri": "https://localhost:8080/"
        },
        "id": "xa_0HIh30SXL",
        "outputId": "cb5810e1-f02b-4127-f6b5-ec37a8bff1c0"
      },
      "execution_count": 67,
      "outputs": [
        {
          "output_type": "stream",
          "name": "stdout",
          "text": [
            "time: 110 ms (started: 2022-12-09 15:47:45 +00:00)\n"
          ]
        }
      ]
    },
    {
      "cell_type": "code",
      "source": [
        "model = pickle.load(open('img_model.p','rb'))"
      ],
      "metadata": {
        "colab": {
          "base_uri": "https://localhost:8080/"
        },
        "id": "ByOUhA5Z1AIF",
        "outputId": "fc6d4e43-6fff-4fb1-950d-3774fe4cd166"
      },
      "execution_count": 68,
      "outputs": [
        {
          "output_type": "stream",
          "name": "stdout",
          "text": [
            "time: 7.82 ms (started: 2022-12-09 15:47:45 +00:00)\n"
          ]
        }
      ]
    },
    {
      "cell_type": "code",
      "source": [
        "# Testing a brand new image\n",
        "flat_data = []\n",
        "url = input('Enter your URL') #Enter URL of the image (Use jpg image)\n",
        "img = imread(url)\n",
        "img_resized = resize(img,(150,150,3))\n",
        "flat_data.append(img_resized.flatten())\n",
        "flat_data = np.array(flat_data)\n",
        "print(img.shape)\n",
        "plt.imshow(img_resized)\n",
        "\n",
        "y_out = model.predict(flat_data)\n",
        "y_out = CATEGORIES[y_out[0]]\n",
        "print (f' PREDICTED OUTPUT: {y_out}')"
      ],
      "metadata": {
        "id": "jJwozW1m1aWe",
        "colab": {
          "base_uri": "https://localhost:8080/",
          "height": 338
        },
        "outputId": "c3a51540-fc59-4206-bfc5-f388658b9c0a"
      },
      "execution_count": 69,
      "outputs": [
        {
          "output_type": "stream",
          "name": "stdout",
          "text": [
            "Enter your URLhttps://upload.wikimedia.org/wikipedia/commons/d/da/Strawberry_ice_cream_cone_%285076899310%29.jpg\n",
            "(1024, 681, 3)\n",
            " PREDICTED OUTPUT: ice cream cone\n"
          ]
        },
        {
          "output_type": "display_data",
          "data": {
            "text/plain": [
              "<Figure size 432x288 with 1 Axes>"
            ],
            "image/png": "[encoded data removed]"
          },
          "metadata": {
            "needs_background": "light"
          }
        },
        {
          "output_type": "stream",
          "name": "stdout",
          "text": [
            "time: 1min 7s (started: 2022-12-09 15:47:45 +00:00)\n"
          ]
        }
      ]
    }
  ]
}