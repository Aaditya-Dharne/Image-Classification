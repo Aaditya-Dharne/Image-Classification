{
  "nbformat": 4,
  "nbformat_minor": 0,
  "metadata": {
    "colab": {
      "provenance": []
    },
    "kernelspec": {
      "name": "python3",
      "display_name": "Python 3"
    },
    "language_info": {
      "name": "python"
    }
  },
  "cells": [
    {
      "cell_type": "markdown",
      "source": [
        "**DATA** **GATHERING**"
      ],
      "metadata": {
        "id": "HuIZdkv7IH6x"
      }
    },
    {
      "cell_type": "code",
      "source": [
        "!pip install ipython-autotime\n",
        "%load_ext autotime"
      ],
      "metadata": {
        "id": "82JFmfizHckV"
      },
      "execution_count": null,
      "outputs": []
    },
    {
      "cell_type": "code",
      "execution_count": null,
      "metadata": {
        "id": "Tx8XOhfz9b6R",
        "colab": {
          "base_uri": "https://localhost:8080/"
        },
        "outputId": "e3548b55-f67e-4d42-be48-d7e7166fa3eb"
      },
      "outputs": [
        {
          "output_type": "stream",
          "name": "stdout",
          "text": [
            "time: 400 µs (started: 2022-12-09 14:42:34 +00:00)\n"
          ]
        }
      ],
      "source": [
        "# DATA : Images\n",
        "# 1. Download manually from Google\n",
        "# 2. Download dataset from Kaggle\n",
        "# 3. Build a Image Web Crawler (Web Scraping)\n",
        "# 4. Use python libraries to scrape the images"
      ]
    },
    {
      "cell_type": "code",
      "source": [
        "# ! mark - It means run it as a shell command rather than a notebook command.\n",
        "#Python library to download images from Bing.com\n",
        "!pip install bing-image-downloader"
      ],
      "metadata": {
        "id": "N-WnisgeBTpI"
      },
      "execution_count": null,
      "outputs": []
    },
    {
      "cell_type": "code",
      "source": [
        "!mkdir images # Directory for images"
      ],
      "metadata": {
        "id": "j_tHm6UxBh1_",
        "colab": {
          "base_uri": "https://localhost:8080/"
        },
        "outputId": "b340bcf8-5467-44f3-f897-76df4faeec30"
      },
      "execution_count": null,
      "outputs": [
        {
          "output_type": "stream",
          "name": "stdout",
          "text": [
            "time: 112 ms (started: 2022-12-09 14:42:36 +00:00)\n"
          ]
        }
      ]
    },
    {
      "cell_type": "code",
      "source": [
        "from bing_image_downloader import downloader\n",
        "#30 images will be downloaded from bing and sent to the images directory we created\n",
        "# adult_filter_off is beacuse we don't want any unwanted images\n",
        "downloader.download(\"sunflower\", limit = 30, output_dir = 'images',\n",
        "                    adult_filter_off = True)"
      ],
      "metadata": {
        "id": "iqzzr0yiC6Mj"
      },
      "execution_count": null,
      "outputs": []
    },
    {
      "cell_type": "code",
      "source": [
        "downloader.download(\"rugby ball leather\", limit = 30, output_dir = 'images',\n",
        "                    adult_filter_off = True)"
      ],
      "metadata": {
        "id": "oVhuqJRrFPrx"
      },
      "execution_count": null,
      "outputs": []
    },
    {
      "cell_type": "code",
      "source": [
        "downloader.download(\"ice cream cone\", limit = 30, output_dir = 'images',\n",
        "                    adult_filter_off = True)"
      ],
      "metadata": {
        "id": "Z1P6IykuGfZa"
      },
      "execution_count": null,
      "outputs": []
    },
    {
      "cell_type": "code",
      "source": [
        "# Preprocessing\n",
        "# 1. Resizing\n",
        "# 2. Flattening\n",
        "\n",
        "# To play around with the folders\n",
        "import os \n",
        "# To display the image\n",
        "import matplotlib.pyplot as plt\n",
        "# To do some numerical computing\n",
        "import numpy as np\n",
        "# To read the image\n",
        "from skimage.io import imread\n",
        "# To resize the image (For the model, we need the images to be of the same size)\n",
        "from skimage.transform import resize"
      ],
      "metadata": {
        "colab": {
          "base_uri": "https://localhost:8080/"
        },
        "id": "gylW96-MIU6W",
        "outputId": "7ac24a72-71b3-4198-db63-e36c84830c08"
      },
      "execution_count": null,
      "outputs": [
        {
          "output_type": "stream",
          "name": "stdout",
          "text": [
            "time: 987 ms (started: 2022-12-09 14:43:26 +00:00)\n"
          ]
        }
      ]
    },
    {
      "cell_type": "code",
      "source": [
        "import numpy as np\n",
        "\n",
        "a = np.array([[1,2,3,4,5],\n",
        "             [6,7,8,9,45]])\n",
        "a.ndim"
      ],
      "metadata": {
        "colab": {
          "base_uri": "https://localhost:8080/"
        },
        "id": "OIjp9InlVmKd",
        "outputId": "6c9440fd-4557-46d6-d4c5-18359dc56371"
      },
      "execution_count": null,
      "outputs": [
        {
          "output_type": "execute_result",
          "data": {
            "text/plain": [
              "2"
            ]
          },
          "metadata": {},
          "execution_count": 9
        },
        {
          "output_type": "stream",
          "name": "stdout",
          "text": [
            "time: 4.25 ms (started: 2022-12-09 14:43:27 +00:00)\n"
          ]
        }
      ]
    },
    {
      "cell_type": "code",
      "source": [
        "# How to convert Matrix to Vector? - Flatten\n",
        "# Flatten : 2D to 1D\n",
        "a.flatten()"
      ],
      "metadata": {
        "colab": {
          "base_uri": "https://localhost:8080/"
        },
        "id": "ujSk-nDXWCMh",
        "outputId": "c60e56a2-93c1-42c3-d8be-b3d945cbc635"
      },
      "execution_count": null,
      "outputs": [
        {
          "output_type": "execute_result",
          "data": {
            "text/plain": [
              "array([ 1,  2,  3,  4,  5,  6,  7,  8,  9, 45])"
            ]
          },
          "metadata": {},
          "execution_count": 10
        },
        {
          "output_type": "stream",
          "name": "stdout",
          "text": [
            "time: 8.57 ms (started: 2022-12-09 14:43:27 +00:00)\n"
          ]
        }
      ]
    },
    {
      "cell_type": "code",
      "source": [
        "# We need the data in two different formats : Input and Output\n",
        "# We have to flatten the image pixels from 2D to 1D (Matrix to Vector)\n",
        "\n",
        "target = [] # Output\n",
        "images = [] # Matrix form\n",
        "flat_data = [] # Vector form (Input)\n",
        "\n",
        "DATADIR = '/content/images'\n",
        "CATEGORIES = ['sunflower','rugby ball leather','ice cream cone']\n",
        "\n",
        "# Iterate through the categories\n",
        "for category in CATEGORIES:\n",
        "  class_num = CATEGORIES.index(category) # Label Encoding the values\n",
        "  # Creates the path to use all the images\n",
        "  path = os.path.join(DATADIR,category) # Joins the 2 paths (DATADIR and category)\n",
        "\n",
        "  for img in os.listdir(path):\n",
        "    img_array = imread(os.path.join(path,img))\n",
        "    # print(img_array)\n",
        "    # plt.imshow(img_array)\n",
        "\n",
        "    #Resizing the images\n",
        "    img_resized = resize(img_array,(150,150,3)) # skimage - Normalizes the data from 0 to 1 ( Values 0 to 255 - Value b/w 0 and 1)\n",
        "    # Storing the resized images in images\n",
        "    images.append(img_resized)\n",
        "    # Flattening the images and storing it in flat_data\n",
        "    flat_data.append(img_resized.flatten())\n",
        "    target.append(class_num)\n",
        "\n",
        "# We don't anything to be outside numpy\n",
        "# If it is in numpy, its easy to iterate and go through it\n",
        "flat_data = np.array(flat_data)\n",
        "target = np.array(target)\n",
        "images = np.array(images)"
      ],
      "metadata": {
        "colab": {
          "base_uri": "https://localhost:8080/"
        },
        "id": "ue5s_MD0J3wW",
        "outputId": "0085ce27-5922-4b73-8a19-f903d204e139"
      },
      "execution_count": null,
      "outputs": [
        {
          "output_type": "stream",
          "name": "stdout",
          "text": [
            "time: 28 s (started: 2022-12-09 14:43:27 +00:00)\n"
          ]
        }
      ]
    },
    {
      "cell_type": "code",
      "source": [
        "flat_data[0]"
      ],
      "metadata": {
        "colab": {
          "base_uri": "https://localhost:8080/"
        },
        "id": "5rS-X34thIwH",
        "outputId": "b3b63b8f-f821-4366-c8c1-69361c638d3b"
      },
      "execution_count": null,
      "outputs": [
        {
          "output_type": "execute_result",
          "data": {
            "text/plain": [
              "array([0.93122876, 0.3390719 , 0.02352941, ..., 0.73661438, 0.0627451 ,\n",
              "       0.02352941])"
            ]
          },
          "metadata": {},
          "execution_count": 12
        },
        {
          "output_type": "stream",
          "name": "stdout",
          "text": [
            "time: 13.8 ms (started: 2022-12-09 14:43:55 +00:00)\n"
          ]
        }
      ]
    },
    {
      "cell_type": "code",
      "source": [
        "target"
      ],
      "metadata": {
        "colab": {
          "base_uri": "https://localhost:8080/"
        },
        "id": "kRGZyfMTiL8z",
        "outputId": "696bc2ef-94ee-4f41-fc5b-00c4b7813720"
      },
      "execution_count": null,
      "outputs": [
        {
          "output_type": "execute_result",
          "data": {
            "text/plain": [
              "array([0, 0, 0, 0, 0, 0, 0, 0, 0, 0, 0, 0, 0, 0, 0, 0, 0, 0, 0, 0, 0, 0,\n",
              "       0, 0, 0, 0, 0, 0, 0, 0, 1, 1, 1, 1, 1, 1, 1, 1, 1, 1, 1, 1, 1, 1,\n",
              "       1, 1, 1, 1, 1, 1, 1, 1, 1, 1, 1, 1, 1, 1, 1, 1, 2, 2, 2, 2, 2, 2,\n",
              "       2, 2, 2, 2, 2, 2, 2, 2, 2, 2, 2, 2, 2, 2, 2, 2, 2, 2, 2, 2, 2, 2,\n",
              "       2, 2])"
            ]
          },
          "metadata": {},
          "execution_count": 13
        },
        {
          "output_type": "stream",
          "name": "stdout",
          "text": [
            "time: 12.4 ms (started: 2022-12-09 14:43:55 +00:00)\n"
          ]
        }
      ]
    },
    {
      "cell_type": "code",
      "source": [
        "#unique,count = np.unique(target, return_counts=True)\n",
        "#plt.bar(CATEGORIES,count)\n",
        "np.unique(target, return_counts=True)"
      ],
      "metadata": {
        "colab": {
          "base_uri": "https://localhost:8080/"
        },
        "id": "aHj3ND0FhK0y",
        "outputId": "72b0183d-b191-4fb2-d200-1ec83384dc68"
      },
      "execution_count": null,
      "outputs": [
        {
          "output_type": "execute_result",
          "data": {
            "text/plain": [
              "(array([0, 1, 2]), array([30, 30, 30]))"
            ]
          },
          "metadata": {},
          "execution_count": 14
        },
        {
          "output_type": "stream",
          "name": "stdout",
          "text": [
            "time: 7.03 ms (started: 2022-12-09 14:43:55 +00:00)\n"
          ]
        }
      ]
    },
    {
      "cell_type": "code",
      "source": [
        "# Split data into Training and Testing\n",
        "\n",
        "from sklearn.model_selection import train_test_split\n",
        "# X : flat_data, Y : target\n",
        "x_train,x_test,y_train,y_test = train_test_split(flat_data,target,\n",
        "                                                 test_size = 0.3,random_state = 110)"
      ],
      "metadata": {
        "colab": {
          "base_uri": "https://localhost:8080/"
        },
        "id": "xfZvj0gJlhoJ",
        "outputId": "0b6d357d-dbf8-4624-f4e0-639a8615daad"
      },
      "execution_count": null,
      "outputs": [
        {
          "output_type": "stream",
          "name": "stdout",
          "text": [
            "time: 179 ms (started: 2022-12-09 14:43:55 +00:00)\n"
          ]
        }
      ]
    },
    {
      "cell_type": "code",
      "source": [
        "# Using classification algorithm to classify the images\n",
        "from sklearn.model_selection import GridSearchCV\n",
        "from sklearn import svm\n",
        "\n",
        "# For any algorithm in machine learning, you have to learn its specific parameters\n",
        "# In SVM, you need to get the hyperparameter, to separate b/w the regions(parameters)\n",
        "# Best parameters\n",
        "\n",
        "param_grid = [\n",
        "             {'C':[1,10,100,1000],'kernel':['linear']},\n",
        "             {'C':[1,10,100,1000],'gamma':[0.001,0.0001],'kernel':['rbf']}\n",
        "]\n",
        "\n",
        "# To get the probabilities of all three\n",
        "svc = svm.SVC(probability=True)\n",
        "\"\"\"\n",
        "GridSearchCV is a technique to search through the best parameter values from the given set of the grid of parameters.\n",
        "The model and the parameters are required to be fed in. \n",
        "Best parameter values are extracted and then the predictions are made.\n",
        "It uses a different combination of all the specified hyperparameters and their values, \n",
        "and calculates the performance for each combination and selects the best value for the hyperparameters.\n",
        "\"\"\"\n",
        "clf = GridSearchCV(svc,param_grid)\n",
        "clf.fit(x_train,y_train)"
      ],
      "metadata": {
        "colab": {
          "base_uri": "https://localhost:8080/"
        },
        "id": "ucs1INdVrkil",
        "outputId": "d41ac7f4-84f6-4e7d-8855-f65ad77c1a86"
      },
      "execution_count": null,
      "outputs": [
        {
          "output_type": "execute_result",
          "data": {
            "text/plain": [
              "GridSearchCV(estimator=SVC(probability=True),\n",
              "             param_grid=[{'C': [1, 10, 100, 1000], 'kernel': ['linear']},\n",
              "                         {'C': [1, 10, 100, 1000], 'gamma': [0.001, 0.0001],\n",
              "                          'kernel': ['rbf']}])"
            ]
          },
          "metadata": {},
          "execution_count": 16
        },
        {
          "output_type": "stream",
          "name": "stdout",
          "text": [
            "time: 23.3 s (started: 2022-12-09 14:43:55 +00:00)\n"
          ]
        }
      ]
    },
    {
      "cell_type": "code",
      "source": [
        "# Checking the accuracy\n",
        "y_pred = clf.predict(x_test)\n",
        "y_pred"
      ],
      "metadata": {
        "colab": {
          "base_uri": "https://localhost:8080/"
        },
        "id": "Hs_v00f3zHGd",
        "outputId": "5e3f8893-dcd9-40b6-fc41-d5bac851264e"
      },
      "execution_count": null,
      "outputs": [
        {
          "output_type": "execute_result",
          "data": {
            "text/plain": [
              "array([2, 2, 2, 0, 1, 2, 2, 0, 2, 0, 1, 0, 2, 1, 2, 2, 0, 2, 0, 1, 2, 0,\n",
              "       2, 0, 2, 2, 1])"
            ]
          },
          "metadata": {},
          "execution_count": 17
        },
        {
          "output_type": "stream",
          "name": "stdout",
          "text": [
            "time: 34.4 ms (started: 2022-12-09 14:44:19 +00:00)\n"
          ]
        }
      ]
    },
    {
      "cell_type": "code",
      "source": [
        "y_test"
      ],
      "metadata": {
        "colab": {
          "base_uri": "https://localhost:8080/"
        },
        "id": "nuK4_bt4zepp",
        "outputId": "f3d680d7-d8c2-4d86-96d6-417fc74c6a54"
      },
      "execution_count": null,
      "outputs": [
        {
          "output_type": "execute_result",
          "data": {
            "text/plain": [
              "array([0, 2, 1, 0, 1, 1, 2, 2, 2, 1, 0, 0, 2, 1, 2, 0, 1, 2, 0, 1, 0, 0,\n",
              "       2, 0, 1, 2, 1])"
            ]
          },
          "metadata": {},
          "execution_count": 18
        },
        {
          "output_type": "stream",
          "name": "stdout",
          "text": [
            "time: 3.14 ms (started: 2022-12-09 14:44:19 +00:00)\n"
          ]
        }
      ]
    },
    {
      "cell_type": "code",
      "source": [
        "# To evaluate our model\n",
        "from sklearn.metrics import accuracy_score,confusion_matrix"
      ],
      "metadata": {
        "colab": {
          "base_uri": "https://localhost:8080/"
        },
        "id": "xqh8QoR1zgVA",
        "outputId": "48463815-9b45-4b3f-f168-aaf2865f003b"
      },
      "execution_count": null,
      "outputs": [
        {
          "output_type": "stream",
          "name": "stdout",
          "text": [
            "time: 450 µs (started: 2022-12-09 14:44:19 +00:00)\n"
          ]
        }
      ]
    },
    {
      "cell_type": "code",
      "source": [
        "accuracy_score(y_pred,y_test)"
      ],
      "metadata": {
        "colab": {
          "base_uri": "https://localhost:8080/"
        },
        "id": "JtyoNJaHzzNo",
        "outputId": "1f11c2f6-df82-4712-c912-1fbc944cbecd"
      },
      "execution_count": null,
      "outputs": [
        {
          "output_type": "execute_result",
          "data": {
            "text/plain": [
              "0.6296296296296297"
            ]
          },
          "metadata": {},
          "execution_count": 20
        },
        {
          "output_type": "stream",
          "name": "stdout",
          "text": [
            "time: 12.1 ms (started: 2022-12-09 14:44:19 +00:00)\n"
          ]
        }
      ]
    },
    {
      "cell_type": "code",
      "source": [
        "confusion_matrix(y_pred,y_test)"
      ],
      "metadata": {
        "colab": {
          "base_uri": "https://localhost:8080/"
        },
        "id": "O4eEkfLUz6my",
        "outputId": "73f03d08-0326-4d4f-b408-444bce5aae66"
      },
      "execution_count": null,
      "outputs": [
        {
          "output_type": "execute_result",
          "data": {
            "text/plain": [
              "array([[5, 2, 1],\n",
              "       [1, 4, 0],\n",
              "       [3, 3, 8]])"
            ]
          },
          "metadata": {},
          "execution_count": 21
        },
        {
          "output_type": "stream",
          "name": "stdout",
          "text": [
            "time: 6.61 ms (started: 2022-12-09 14:44:19 +00:00)\n"
          ]
        }
      ]
    },
    {
      "cell_type": "code",
      "source": [
        "# Save the model using Pickle library\n",
        "import pickle\n",
        "pickle.dump(clf,open('img_model.p','wb'))"
      ],
      "metadata": {
        "colab": {
          "base_uri": "https://localhost:8080/"
        },
        "id": "xa_0HIh30SXL",
        "outputId": "77ec96c8-ad8f-4add-ad15-7d165343c48a"
      },
      "execution_count": null,
      "outputs": [
        {
          "output_type": "stream",
          "name": "stdout",
          "text": [
            "time: 31.9 ms (started: 2022-12-09 14:44:19 +00:00)\n"
          ]
        }
      ]
    },
    {
      "cell_type": "code",
      "source": [
        "model = pickle.load(open('img_model.p','rb'))"
      ],
      "metadata": {
        "colab": {
          "base_uri": "https://localhost:8080/"
        },
        "id": "ByOUhA5Z1AIF",
        "outputId": "08445489-5a0f-4fd8-8f68-3ddf5e57675a"
      },
      "execution_count": null,
      "outputs": [
        {
          "output_type": "stream",
          "name": "stdout",
          "text": [
            "time: 5.16 ms (started: 2022-12-09 14:44:19 +00:00)\n"
          ]
        }
      ]
    },
    {
      "cell_type": "code",
      "source": [
        "# Testing a brand new image\n",
        "flat_data = []\n",
        "url = input('Enter your URL') #Enter URL of the image (Use jpg image)\n",
        "img = imread(url)\n",
        "img_resized = resize(img,(150,150,3))\n",
        "flat_data.append(img_resized.flatten())\n",
        "flat_data = np.array(flat_data)\n",
        "print(img.shape)\n",
        "plt.imshow(img_resized)\n",
        "\n",
        "y_out = model.predict(flat_data)\n",
        "y_out = CATEGORIES[y_out[0]]\n",
        "print (f' PREDICTED OUTPUT: {y_out}')"
      ],
      "metadata": {
        "id": "jJwozW1m1aWe"
      },
      "execution_count": null,
      "outputs": []
    }
  ]
}